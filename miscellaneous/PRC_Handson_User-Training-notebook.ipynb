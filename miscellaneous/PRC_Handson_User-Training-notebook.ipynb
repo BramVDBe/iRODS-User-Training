{
 "cells": [
  {
   "cell_type": "markdown",
   "id": "5577e2fb",
   "metadata": {},
   "source": [
    "# Python iRODS Client User Training"
   ]
  },
  {
   "cell_type": "markdown",
   "id": "0f62596a",
   "metadata": {},
   "source": [
    "We will use the environment file of iRODS to have a secure and longer session in PRC. Therefore we need to connect to the KU Leuven iRODS portal (https://{yourZone}.irods.icts.kuleuven.be) and follow relevant instructions there."
   ]
  },
  {
   "cell_type": "markdown",
   "id": "5cce3c76",
   "metadata": {},
   "source": [
    "## Getting iRODS session"
   ]
  },
  {
   "cell_type": "markdown",
   "id": "30b7ff30",
   "metadata": {},
   "source": [
    "Depending on your operating system, the connection script that you should use is not the same since a different authentication mechanism is in effect."
   ]
  },
  {
   "cell_type": "markdown",
   "id": "ade768ef",
   "metadata": {},
   "source": [
    "### On Linux OS"
   ]
  },
  {
   "cell_type": "code",
   "execution_count": null,
   "id": "f70ec421",
   "metadata": {},
   "outputs": [],
   "source": [
    "import os\n",
    "import ssl\n",
    "from irods.session import iRODSSession\n",
    "\n",
    "try:\n",
    "    env_file = os.environ['IRODS_ENVIRONMENT_FILE']\n",
    "except KeyError:\n",
    "    env_file = os.path.expanduser('~/.irods/irods_environment.json')\n",
    "\n",
    "ssl_context = ssl.create_default_context(purpose=ssl.Purpose.SERVER_AUTH, cafile=None, capath=None, cadata=None)\n",
    "ssl_settings = {'ssl_context': ssl_context}\n",
    "with iRODSSession(irods_env_file=env_file, **ssl_settings) as session:\n",
    "    pass"
   ]
  },
  {
   "cell_type": "markdown",
   "id": "896c3fdc",
   "metadata": {},
   "source": [
    "### On Windows OS"
   ]
  },
  {
   "cell_type": "code",
   "execution_count": 2,
   "id": "fb237f68",
   "metadata": {},
   "outputs": [],
   "source": [
    "import os, os.path\n",
    "from irods.session import iRODSSession\n",
    "env_file = os.getenv('IRODS_ENVIRONMENT_FILE', os.path.expanduser('~/.irods/irods_environment.json'))\n",
    "with iRODSSession(irods_env_file=env_file) as session:\n",
    "    pass"
   ]
  },
  {
   "cell_type": "markdown",
   "id": "e9b3531a",
   "metadata": {},
   "source": [
    "## Working with Collections"
   ]
  },
  {
   "cell_type": "markdown",
   "id": "7bbf112f",
   "metadata": {},
   "source": [
    "You can instantiate a collection you want:"
   ]
  },
  {
   "cell_type": "code",
   "execution_count": 3,
   "id": "d83b56ff",
   "metadata": {},
   "outputs": [
    {
     "data": {
      "text/plain": [
       "'/icts_demo/home/u0137480'"
      ]
     },
     "execution_count": 3,
     "metadata": {},
     "output_type": "execute_result"
    }
   ],
   "source": [
    "coll = session.collections.get(\"/icts_demo/home/u0137480\")\n",
    "coll.path"
   ]
  },
  {
   "cell_type": "markdown",
   "id": "e5cabcd5",
   "metadata": {},
   "source": [
    "You check available attributes and methods of an object by built-in dir() function:"
   ]
  },
  {
   "cell_type": "code",
   "execution_count": 4,
   "id": "f80a46f6",
   "metadata": {},
   "outputs": [
    {
     "data": {
      "text/plain": [
       "['_meta',\n",
       " 'data_objects',\n",
       " 'id',\n",
       " 'manager',\n",
       " 'metadata',\n",
       " 'move',\n",
       " 'name',\n",
       " 'path',\n",
       " 'remove',\n",
       " 'subcollections',\n",
       " 'unregister',\n",
       " 'walk']"
      ]
     },
     "execution_count": 4,
     "metadata": {},
     "output_type": "execute_result"
    }
   ],
   "source": [
    "[ x for x in dir(coll) if not x.startswith('__') ]"
   ]
  },
  {
   "cell_type": "markdown",
   "id": "2f564ba0",
   "metadata": {},
   "source": [
    "For example you can look into the data objects of an interested collection:"
   ]
  },
  {
   "cell_type": "code",
   "execution_count": 6,
   "id": "72bc3f97",
   "metadata": {},
   "outputs": [
    {
     "name": "stdout",
     "output_type": "stream",
     "text": [
      "<iRODSDataObject 20276 test.txt>\n"
     ]
    }
   ],
   "source": [
    "for obj in coll.data_objects:\n",
    "    print(obj)"
   ]
  },
  {
   "cell_type": "markdown",
   "id": "bd7dd6ed",
   "metadata": {},
   "source": [
    "You can use walk() method to generate a collection tree. This method shows all content of a requested collection:"
   ]
  },
  {
   "cell_type": "code",
   "execution_count": 7,
   "id": "eee207f2",
   "metadata": {},
   "outputs": [
    {
     "name": "stdout",
     "output_type": "stream",
     "text": [
      "(<iRODSCollection 10270 b'u0137480'>, [<iRODSCollection 10371 b'training'>], [<iRODSDataObject 20276 test.txt>])\n",
      "(<iRODSCollection 10371 b'training'>, [], [<iRODSDataObject 10374 01_iRODS-User-Training_Intro.pdf>])\n"
     ]
    }
   ],
   "source": [
    "for item in coll.walk():\n",
    "    print(item)"
   ]
  },
  {
   "cell_type": "markdown",
   "id": "58491023",
   "metadata": {},
   "source": [
    "You can create or delete a collection. Lets create a new collection:"
   ]
  },
  {
   "cell_type": "code",
   "execution_count": 9,
   "id": "4a3fa995",
   "metadata": {},
   "outputs": [
    {
     "data": {
      "text/plain": [
       "<iRODSCollection 20278 b'newCollection'>"
      ]
     },
     "execution_count": 9,
     "metadata": {},
     "output_type": "execute_result"
    }
   ],
   "source": [
    "coll = session.collections.create(\"/icts_demo/home/u0137480/newCollection\")\n",
    "coll"
   ]
  },
  {
   "cell_type": "markdown",
   "id": "89d4b30f",
   "metadata": {},
   "source": [
    "## Working with Data Objects"
   ]
  },
  {
   "cell_type": "markdown",
   "id": "2687b2b9",
   "metadata": {},
   "source": [
    "You can create a new data object:"
   ]
  },
  {
   "cell_type": "code",
   "execution_count": 10,
   "id": "652acda3",
   "metadata": {},
   "outputs": [],
   "source": [
    "obj = session.data_objects.create(\"/icts_demo/home/u0137480/test_data\")"
   ]
  },
  {
   "cell_type": "markdown",
   "id": "9ca4287c",
   "metadata": {},
   "source": [
    "You can upload a file from your local pc as a data object in/to iRODS:"
   ]
  },
  {
   "cell_type": "code",
   "execution_count": 11,
   "id": "1181420b",
   "metadata": {},
   "outputs": [],
   "source": [
    "session.data_objects.put(\"alice.txt\",\"/icts_demo/home/u0137480/alice.txt\")"
   ]
  },
  {
   "cell_type": "markdown",
   "id": "0d557181",
   "metadata": {},
   "source": [
    "You can download an existing data object from iRODS to your local file system:"
   ]
  },
  {
   "cell_type": "code",
   "execution_count": null,
   "id": "b6e5c9f9",
   "metadata": {},
   "outputs": [],
   "source": [
    "session.data_objects.get(\"/icts_demo/home/u0137480/test.txt\", \"/yourLocalPath/test.txt\")"
   ]
  },
  {
   "cell_type": "markdown",
   "id": "120a88b0",
   "metadata": {},
   "source": [
    "To overwrite on an existing file, you need to specify force flag after you import the relavant keyword from iRODS"
   ]
  },
  {
   "cell_type": "code",
   "execution_count": 20,
   "id": "fb804cf4",
   "metadata": {},
   "outputs": [],
   "source": [
    "from irods.keywords import FORCE_FLAG_KW"
   ]
  },
  {
   "cell_type": "code",
   "execution_count": 12,
   "id": "e22d005e",
   "metadata": {},
   "outputs": [
    {
     "data": {
      "text/plain": [
       "<iRODSDataObject 20279 test_data>"
      ]
     },
     "execution_count": 12,
     "metadata": {},
     "output_type": "execute_result"
    }
   ],
   "source": [
    "session.data_objects.get(\"/icts_demo/home/u0137480/test_data\", \"C:\\\\Users\\\\u0137480\\\\Desktop\\\\Python\\\\test_data\", forceFlag=\"\")"
   ]
  },
  {
   "cell_type": "markdown",
   "id": "587a9682",
   "metadata": {},
   "source": [
    "You can remove a data object from iRODS by unlinkng:"
   ]
  },
  {
   "cell_type": "code",
   "execution_count": 13,
   "id": "92394393",
   "metadata": {},
   "outputs": [],
   "source": [
    "session.data_objects.unlink(\"/icts_demo/home/u0137480/test_data\", force=True)"
   ]
  },
  {
   "cell_type": "markdown",
   "id": "b986e794",
   "metadata": {},
   "source": [
    "You can make copy from one collection (location) to another one on iRODS:\n",
    "\n",
    "**Note**: If your destination doesnt exist yet, it will be created automatically."
   ]
  },
  {
   "cell_type": "code",
   "execution_count": 14,
   "id": "84c1ad30",
   "metadata": {},
   "outputs": [],
   "source": [
    "session.data_objects.copy(\"/icts_demo/home/u0137480/test.txt\", \"/icts_demo/home/u0137480/newCollection/test.txt\")"
   ]
  },
  {
   "cell_type": "markdown",
   "id": "d1d4d888",
   "metadata": {},
   "source": [
    "For the python object having the __dict__ attribute, you can use the builtin vars() function to see useful information about the object you instantiated."
   ]
  },
  {
   "cell_type": "code",
   "execution_count": 18,
   "id": "3745e274",
   "metadata": {},
   "outputs": [
    {
     "data": {
      "text/plain": [
       "{'manager': <irods.manager.data_object_manager.DataObjectManager at 0x17ee19d9e88>,\n",
       " 'collection': <iRODSCollection 10270 b'u0137480'>,\n",
       " 'id': 20276,\n",
       " 'collection_id': 10270,\n",
       " 'name': 'test.txt',\n",
       " 'replica_number': 0,\n",
       " 'version': None,\n",
       " 'type': 'generic',\n",
       " 'size': 0,\n",
       " 'resource_name': 'netapp',\n",
       " 'path': '/icts_demo/home/u0137480/test.txt',\n",
       " 'owner_name': 'u0137480',\n",
       " 'owner_zone': 'icts_demo',\n",
       " 'replica_status': '1',\n",
       " 'status': None,\n",
       " 'checksum': None,\n",
       " 'expiry': '00000000000',\n",
       " 'map_id': 0,\n",
       " 'comments': None,\n",
       " 'create_time': datetime.datetime(2021, 11, 23, 15, 35, 28),\n",
       " 'modify_time': datetime.datetime(2021, 11, 23, 15, 35, 28),\n",
       " 'resc_hier': 'default;netapp',\n",
       " 'resc_id': '10044',\n",
       " 'replicas': [<irods.data_object.iRODSReplica netapp>],\n",
       " '_meta': None}"
      ]
     },
     "execution_count": 18,
     "metadata": {},
     "output_type": "execute_result"
    }
   ],
   "source": [
    "download = session.data_objects.get(\"/icts_demo/home/u0137480/test.txt\", \"C:\\\\Users\\\\u0137480\\\\Desktop\\\\Python\\\\test1.txt\", forceFlag=\"\")\n",
    "vars(download)"
   ]
  },
  {
   "cell_type": "markdown",
   "id": "38e930d1",
   "metadata": {},
   "source": [
    "## Getting and Setting Permissions"
   ]
  },
  {
   "cell_type": "markdown",
   "id": "500a0bc5",
   "metadata": {},
   "source": [
    "The PRC make it possible to get and set permissions on a collection or on a data object. "
   ]
  },
  {
   "cell_type": "markdown",
   "id": "48678552",
   "metadata": {},
   "source": [
    "Lets list the given ACLs on a collection:"
   ]
  },
  {
   "cell_type": "code",
   "execution_count": 35,
   "id": "25e089a6",
   "metadata": {},
   "outputs": [
    {
     "data": {
      "text/plain": [
       "<iRODSAccess own /icts_demo/home/u0137480/newCollection u0137480 icts_demo>"
      ]
     },
     "execution_count": 35,
     "metadata": {},
     "output_type": "execute_result"
    }
   ],
   "source": [
    "coll = session.collections.get(\"/icts_demo/home/u0137480/newCollection\")\n",
    "acl_coll = session.permissions.get(coll)[0]\n",
    "acl_coll"
   ]
  },
  {
   "cell_type": "markdown",
   "id": "cf87b12d",
   "metadata": {},
   "source": [
    "You can add a new permission or change the existing one. To be able to add/modify ACLs, you should first import relevant classes:"
   ]
  },
  {
   "cell_type": "code",
   "execution_count": 36,
   "id": "4ce722ed",
   "metadata": {},
   "outputs": [],
   "source": [
    "from irods.access import iRODSAccess"
   ]
  },
  {
   "cell_type": "markdown",
   "id": "03128b75",
   "metadata": {},
   "source": [
    "You can give someone else an 'own' access right to your data object: "
   ]
  },
  {
   "cell_type": "code",
   "execution_count": 55,
   "id": "d9336915",
   "metadata": {},
   "outputs": [],
   "source": [
    "acl_dataObj = iRODSAccess(\"read\", \"/icts_demo/home/u0137480/test.txt\", \"u0116999\", \"icts_demo\")\n",
    "session.permissions.set(acl_dataObj)"
   ]
  },
  {
   "cell_type": "markdown",
   "id": "baabe28b",
   "metadata": {},
   "source": [
    "To check the given permissions, first get the interested data object instantiated:"
   ]
  },
  {
   "cell_type": "code",
   "execution_count": 56,
   "id": "108a77e3",
   "metadata": {},
   "outputs": [],
   "source": [
    "data_obj = session.data_objects.get(\"/icts_demo/home/u0137480/test.txt\")"
   ]
  },
  {
   "cell_type": "markdown",
   "id": "da0ec42b",
   "metadata": {},
   "source": [
    "You can list given permissions:"
   ]
  },
  {
   "cell_type": "code",
   "execution_count": 57,
   "id": "189df4f3",
   "metadata": {
    "scrolled": true
   },
   "outputs": [
    {
     "data": {
      "text/plain": [
       "[<iRODSAccess own /icts_demo/home/u0137480/test.txt u0137480 icts_demo>,\n",
       " <iRODSAccess read object /icts_demo/home/u0137480/test.txt u0116999 icts_demo>]"
      ]
     },
     "execution_count": 57,
     "metadata": {},
     "output_type": "execute_result"
    }
   ],
   "source": [
    "acl_dataObj = session.permissions.get(data_obj)\n",
    "acl_dataObj"
   ]
  },
  {
   "cell_type": "markdown",
   "id": "45449518",
   "metadata": {},
   "source": [
    "## Reading and Writing Files"
   ]
  },
  {
   "cell_type": "markdown",
   "id": "46a74a3f",
   "metadata": {},
   "source": [
    "The PRC provides us working with file-like objects."
   ]
  },
  {
   "cell_type": "markdown",
   "id": "cd817ac9",
   "metadata": {},
   "source": [
    "You can read a data object:"
   ]
  },
  {
   "cell_type": "code",
   "execution_count": 58,
   "id": "a91799df",
   "metadata": {},
   "outputs": [
    {
     "name": "stdout",
     "output_type": "stream",
     "text": [
      "b'This is a test file\\n'\n"
     ]
    }
   ],
   "source": [
    "obj = session.data_objects.get(\"/icts_demo/home/u0137480/test.txt\")\n",
    "with obj.open('r+') as f:\n",
    "    print(f.read())"
   ]
  },
  {
   "cell_type": "markdown",
   "id": "f6e1e186",
   "metadata": {},
   "source": [
    "You can write on a data object:"
   ]
  },
  {
   "cell_type": "code",
   "execution_count": 59,
   "id": "b096408a",
   "metadata": {},
   "outputs": [
    {
     "name": "stdout",
     "output_type": "stream",
     "text": [
      "b'st file\\n'\n"
     ]
    }
   ],
   "source": [
    "obj = session.data_objects.get(\"/icts_demo/home/u0137480/test.txt\")\n",
    "with obj.open('r+') as f:\n",
    "    f.write(b'Hello\\nWorld\\n')\n",
    "    for line in f:\n",
    "        print(line)"
   ]
  },
  {
   "cell_type": "markdown",
   "id": "7613ff28",
   "metadata": {},
   "source": [
    "## Computing and Retrieving Checksums"
   ]
  },
  {
   "cell_type": "markdown",
   "id": "ee9834ff",
   "metadata": {},
   "source": [
    "By calling chksum() on an object you can add a cheksum:"
   ]
  },
  {
   "cell_type": "code",
   "execution_count": 50,
   "id": "77c84cb5",
   "metadata": {},
   "outputs": [
    {
     "data": {
      "text/plain": [
       "'sha2:zDeTfxNmkZ4wC+eEg40PZIaE4pNP3mbNl+MzrlEjl2E='"
      ]
     },
     "execution_count": 50,
     "metadata": {},
     "output_type": "execute_result"
    }
   ],
   "source": [
    "obj = session.data_objects.get(\"/icts_demo/home/u0137480/test.txt\")\n",
    "obj.chksum()"
   ]
  },
  {
   "cell_type": "markdown",
   "id": "62451d29",
   "metadata": {},
   "source": [
    "If a checksum already is associated to the data object at stake, then you can use checksum attribute to see it:"
   ]
  },
  {
   "cell_type": "code",
   "execution_count": 52,
   "id": "cca83f6a",
   "metadata": {},
   "outputs": [
    {
     "name": "stdout",
     "output_type": "stream",
     "text": [
      "sha2:zDeTfxNmkZ4wC+eEg40PZIaE4pNP3mbNl+MzrlEjl2E=\n"
     ]
    }
   ],
   "source": [
    "obj = session.data_objects.get(\"/icts_demo/home/u0137480/test.txt\")\n",
    "print(obj.checksum)"
   ]
  },
  {
   "cell_type": "markdown",
   "id": "7b43f83c",
   "metadata": {},
   "source": [
    "## Working with metadata"
   ]
  },
  {
   "cell_type": "markdown",
   "id": "1c8e4add",
   "metadata": {},
   "source": [
    "If you check a file that no metadata attached to, then you will see an empty list. You can check all associated metadata with items() method:"
   ]
  },
  {
   "cell_type": "code",
   "execution_count": 61,
   "id": "f77bfcec",
   "metadata": {},
   "outputs": [
    {
     "name": "stdout",
     "output_type": "stream",
     "text": [
      "[<iRODSMeta 20277 irods::access_time 1637682744 None>]\n"
     ]
    }
   ],
   "source": [
    "obj = session.data_objects.get(\"/icts_demo/home/u0137480/test.txt\")\n",
    "print(obj.metadata.items())"
   ]
  },
  {
   "cell_type": "markdown",
   "id": "6cfeab01",
   "metadata": {},
   "source": [
    "You can add metadata in an AVU format as many as you want. You can associate more than one valu to an attribute. Let's add AVUs to the test.txt data object:"
   ]
  },
  {
   "cell_type": "code",
   "execution_count": 62,
   "id": "348ec6bf",
   "metadata": {},
   "outputs": [
    {
     "name": "stdout",
     "output_type": "stream",
     "text": [
      "[<iRODSMeta 20277 irods::access_time 1637682744 None>, <iRODSMeta 20285 key1 value1 unit1>, <iRODSMeta 20286 key1 value2 None>, <iRODSMeta 20287 key2 value3 None>, <iRODSMeta 20288 key2 value3 unit3>, <iRODSMeta 20289 key3 value4 None>]\n"
     ]
    }
   ],
   "source": [
    "obj.metadata.add('key1', 'value1', 'unit1')\n",
    "obj.metadata.add('key1', 'value2')\n",
    "obj.metadata.add('key2', 'value3')\n",
    "obj.metadata.add('key2', 'value3', 'unit3')\n",
    "obj.metadata.add('key3', 'value4')\n",
    "print(obj.metadata.items())"
   ]
  },
  {
   "cell_type": "markdown",
   "id": "e4fd9b20",
   "metadata": {},
   "source": [
    "You can also use Python's item indexing syntax to perform the equivalent of an imeta set, e.g. overwriting all AVU's with a name field of \"key1\" in a single update."
   ]
  },
  {
   "cell_type": "markdown",
   "id": "7fcdc047",
   "metadata": {},
   "source": [
    "However, we have to first import a relevant module:"
   ]
  },
  {
   "cell_type": "code",
   "execution_count": 63,
   "id": "d3f3fe70",
   "metadata": {},
   "outputs": [],
   "source": [
    "from irods.meta import iRODSMeta"
   ]
  },
  {
   "cell_type": "code",
   "execution_count": 64,
   "id": "7bb80f47",
   "metadata": {},
   "outputs": [
    {
     "name": "stdout",
     "output_type": "stream",
     "text": [
      "[<iRODSMeta 20277 irods::access_time 1637682744 None>, <iRODSMeta 20287 key2 value3 None>, <iRODSMeta 20288 key2 value3 unit3>, <iRODSMeta 20289 key3 value4 None>, <iRODSMeta 20290 key1 value5 units2>]\n"
     ]
    }
   ],
   "source": [
    "new_meta = iRODSMeta('key1','value5','units2')\n",
    "obj.metadata[new_meta.name] = new_meta\n",
    "print(obj.metadata.items())"
   ]
  },
  {
   "cell_type": "markdown",
   "id": "eaf8e71b",
   "metadata": {},
   "source": [
    "It is possible to get all metadata given with a unique attribute by get_all() method."
   ]
  },
  {
   "cell_type": "code",
   "execution_count": 65,
   "id": "64e3e8f7",
   "metadata": {},
   "outputs": [
    {
     "data": {
      "text/plain": [
       "[<iRODSMeta 20287 key2 value3 None>, <iRODSMeta 20288 key2 value3 unit3>]"
      ]
     },
     "execution_count": 65,
     "metadata": {},
     "output_type": "execute_result"
    }
   ],
   "source": [
    "obj.metadata.get_all('key2')"
   ]
  },
  {
   "cell_type": "markdown",
   "id": "66d61460",
   "metadata": {},
   "source": [
    "You can delete an attached metadata by remove() method. You should here specify the AVU you want to remove:"
   ]
  },
  {
   "cell_type": "code",
   "execution_count": 66,
   "id": "1805eaa3",
   "metadata": {},
   "outputs": [
    {
     "data": {
      "text/plain": [
       "[<iRODSMeta 20277 irods::access_time 1637682744 None>,\n",
       " <iRODSMeta 20287 key2 value3 None>,\n",
       " <iRODSMeta 20288 key2 value3 unit3>,\n",
       " <iRODSMeta 20289 key3 value4 None>]"
      ]
     },
     "execution_count": 66,
     "metadata": {},
     "output_type": "execute_result"
    }
   ],
   "source": [
    "obj.metadata.remove('key1', 'value5', 'units2')\n",
    "obj.metadata.items()"
   ]
  },
  {
   "cell_type": "markdown",
   "id": "9ea00fcf",
   "metadata": {},
   "source": [
    "However, if you want to remove all existing metadata on an object at once, then you can use remove_all() method without an argument:"
   ]
  },
  {
   "cell_type": "code",
   "execution_count": 67,
   "id": "262614fc",
   "metadata": {},
   "outputs": [
    {
     "data": {
      "text/plain": [
       "[]"
      ]
     },
     "execution_count": 67,
     "metadata": {},
     "output_type": "execute_result"
    }
   ],
   "source": [
    "obj.metadata.remove_all()\n",
    "obj.metadata.items()"
   ]
  },
  {
   "cell_type": "markdown",
   "id": "1fc73b8a",
   "metadata": {},
   "source": [
    "## Atomic operations on metadata"
   ]
  },
  {
   "cell_type": "markdown",
   "id": "e1dfa7de",
   "metadata": {},
   "source": [
    "The PRC allows a group of metadata add and remove operations to be performed transactionally, within a single call to the server. This does mean you can apply atomic operations on metadata."
   ]
  },
  {
   "cell_type": "markdown",
   "id": "47bf256f",
   "metadata": {},
   "source": [
    "To be able to work with atomic operations, you should import relevant classes:"
   ]
  },
  {
   "cell_type": "code",
   "execution_count": 68,
   "id": "86a8d96a",
   "metadata": {},
   "outputs": [],
   "source": [
    "from irods.meta import iRODSMeta, AVUOperation"
   ]
  },
  {
   "cell_type": "markdown",
   "id": "621e6f34",
   "metadata": {},
   "source": [
    "Now you can add more than one AVU and also remove metadat at the same call."
   ]
  },
  {
   "cell_type": "code",
   "execution_count": 76,
   "id": "8aa41d23",
   "metadata": {},
   "outputs": [
    {
     "data": {
      "text/plain": [
       "[<iRODSMeta 20291 attr3 val3 None>]"
      ]
     },
     "execution_count": 76,
     "metadata": {},
     "output_type": "execute_result"
    }
   ],
   "source": [
    "obj.metadata.apply_atomic_operations( AVUOperation(operation='remove', avu=iRODSMeta('attr1','val1','unit1')),\n",
    "                                       AVUOperation(operation='add', avu=iRODSMeta('attr3','val3')),\n",
    "                                       AVUOperation(operation='add', avu=iRODSMeta('attr2','val2','unit2')),\n",
    "                                       AVUOperation(operation='remove', avu=iRODSMeta('attr2','val2','unit2')) )\n",
    "obj.metadata.items()"
   ]
  },
  {
   "cell_type": "markdown",
   "id": "a5e40155",
   "metadata": {},
   "source": [
    "You can also use a pre-built list of AVUOperations using Python's f(*args_list) syntax. For example, this function uses the atomic metadata API to very quickly remove all AVUs from an object."
   ]
  },
  {
   "cell_type": "markdown",
   "id": "16440f4e",
   "metadata": {},
   "source": [
    "Lets add more AVUs:"
   ]
  },
  {
   "cell_type": "code",
   "execution_count": 70,
   "id": "4fb807a1",
   "metadata": {},
   "outputs": [
    {
     "data": {
      "text/plain": [
       "[<iRODSMeta 20291 attr3 val3 None>,\n",
       " <iRODSMeta 20292 attr2 val2 unit2>,\n",
       " <iRODSMeta 20293 attr1 val1 None>]"
      ]
     },
     "execution_count": 70,
     "metadata": {},
     "output_type": "execute_result"
    }
   ],
   "source": [
    "obj.metadata.apply_atomic_operations(AVUOperation(operation='add', avu=iRODSMeta('attr1','val1')), AVUOperation(operation='add', avu=iRODSMeta('attr2','val2','unit2')), )\n",
    "obj.metadata.items()"
   ]
  },
  {
   "cell_type": "markdown",
   "id": "4f6ada8c",
   "metadata": {},
   "source": [
    "Now, lets remove all attached metadata:"
   ]
  },
  {
   "cell_type": "code",
   "execution_count": 71,
   "id": "c201ba68",
   "metadata": {},
   "outputs": [
    {
     "data": {
      "text/plain": [
       "[]"
      ]
     },
     "execution_count": 71,
     "metadata": {},
     "output_type": "execute_result"
    }
   ],
   "source": [
    "avus_on_object = obj.metadata.items()\n",
    "obj.metadata.apply_atomic_operations( *[AVUOperation(operation='remove', avu=i) for i in avus_on_object] )\n",
    "obj.metadata.items()"
   ]
  },
  {
   "cell_type": "markdown",
   "id": "c8c699ce",
   "metadata": {},
   "source": [
    "## How to make queries"
   ]
  },
  {
   "cell_type": "markdown",
   "id": "16ace065",
   "metadata": {},
   "source": [
    "The PRC offers different query options that you can use based on your need. You may use these queries in your script to easily manage your research data."
   ]
  },
  {
   "cell_type": "markdown",
   "id": "f4011b59",
   "metadata": {},
   "source": [
    "First we will make a general query based on collection and data object classes. Therefore we import those classes:"
   ]
  },
  {
   "cell_type": "code",
   "execution_count": 72,
   "id": "faf4e8c4",
   "metadata": {},
   "outputs": [],
   "source": [
    "from irods.models import Collection, DataObject"
   ]
  },
  {
   "cell_type": "code",
   "execution_count": 73,
   "id": "24e9be65",
   "metadata": {},
   "outputs": [
    {
     "name": "stdout",
     "output_type": "stream",
     "text": [
      "/icts_demo/home/u0137480/alice.txt size=74703\n",
      "/icts_demo/home/u0137480/test.txt size=20\n",
      "/icts_demo/home/u0137480/newCollection/test.txt size=12\n",
      "/icts_demo/home/u0137480/training/01_iRODS-User-Training_Intro.pdf size=2068313\n"
     ]
    }
   ],
   "source": [
    "query = session.query(Collection.name, DataObject.name, DataObject.size)\n",
    "for result in query:\n",
    "    print('{}/{} size={}'.format(result[Collection.name], result[DataObject.name], result[DataObject.size]))"
   ]
  },
  {
   "cell_type": "markdown",
   "id": "ef14ff69",
   "metadata": {},
   "source": [
    "Let's now make a query based on some criterias that we know already with the metadata assuming provided earlier. FIrst we have to import relevant sub modules. We will make our query based on collection and collection metadata. Also we will filter according to the criterias that we specify:"
   ]
  },
  {
   "cell_type": "code",
   "execution_count": 74,
   "id": "7269842a",
   "metadata": {},
   "outputs": [],
   "source": [
    "from irods.column import Criterion\n",
    "from irods.models import DataObject, DataObjectMeta, Collection, CollectionMeta"
   ]
  },
  {
   "cell_type": "code",
   "execution_count": 77,
   "id": "b59f76df",
   "metadata": {},
   "outputs": [
    {
     "name": "stdout",
     "output_type": "stream",
     "text": [
      "test.txt attr3 val3 None\n"
     ]
    }
   ],
   "source": [
    "results = session.query(DataObject, DataObjectMeta).filter( \\\n",
    "Criterion('=', DataObjectMeta, 'key1')).filter( \\\n",
    "Criterion('like', DataObjectMeta.value, 'val%'))\n",
    "for item in results:\n",
    "    print(item[DataObject.name], item[DataObjectMeta.name], item[DataObjectMeta.value], item[DataObjectMeta.units])"
   ]
  },
  {
   "cell_type": "markdown",
   "id": "bed144f8",
   "metadata": {},
   "source": [
    "Lets now query the data size and and quantity of the data object you are owner of:"
   ]
  },
  {
   "cell_type": "code",
   "execution_count": 78,
   "id": "ea44f3d1",
   "metadata": {},
   "outputs": [
    {
     "name": "stdout",
     "output_type": "stream",
     "text": [
      "+--------------+-----------+-----------+\n",
      "| D_OWNER_NAME | D_DATA_ID | DATA_SIZE |\n",
      "+--------------+-----------+-----------+\n",
      "| u0137480     | 4         | 2143048   |\n",
      "+--------------+-----------+-----------+\n"
     ]
    }
   ],
   "source": [
    "query = session.query(DataObject.owner_name).count(DataObject.id).sum(DataObject.size)\n",
    "print(query.execute())"
   ]
  },
  {
   "cell_type": "code",
   "execution_count": null,
   "id": "a4f346bf",
   "metadata": {},
   "outputs": [],
   "source": []
  }
 ],
 "metadata": {
  "kernelspec": {
   "display_name": "Python 3",
   "language": "python",
   "name": "python3"
  },
  "language_info": {
   "codemirror_mode": {
    "name": "ipython",
    "version": 3
   },
   "file_extension": ".py",
   "mimetype": "text/x-python",
   "name": "python",
   "nbconvert_exporter": "python",
   "pygments_lexer": "ipython3",
   "version": "3.7.11"
  }
 },
 "nbformat": 4,
 "nbformat_minor": 5
}
